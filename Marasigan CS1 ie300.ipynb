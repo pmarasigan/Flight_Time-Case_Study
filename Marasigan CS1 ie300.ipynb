{
 "cells": [
  {
   "cell_type": "code",
   "execution_count": 42,
   "metadata": {},
   "outputs": [
    {
     "data": {
      "text/html": [
       "<div>\n",
       "<style scoped>\n",
       "    .dataframe tbody tr th:only-of-type {\n",
       "        vertical-align: middle;\n",
       "    }\n",
       "\n",
       "    .dataframe tbody tr th {\n",
       "        vertical-align: top;\n",
       "    }\n",
       "\n",
       "    .dataframe thead th {\n",
       "        text-align: right;\n",
       "    }\n",
       "</style>\n",
       "<table border=\"1\" class=\"dataframe\">\n",
       "  <thead>\n",
       "    <tr style=\"text-align: right;\">\n",
       "      <th></th>\n",
       "      <th>Flight Date</th>\n",
       "      <th>Carrier</th>\n",
       "      <th>Flight Number</th>\n",
       "      <th>Origin</th>\n",
       "      <th>Destination</th>\n",
       "      <th>Departure Time</th>\n",
       "      <th>Departure Delay</th>\n",
       "      <th>Arrival Time</th>\n",
       "      <th>Arrival Delay</th>\n",
       "      <th>Flight Time</th>\n",
       "    </tr>\n",
       "  </thead>\n",
       "  <tbody>\n",
       "    <tr>\n",
       "      <td>0</td>\n",
       "      <td>11/1/2015</td>\n",
       "      <td>AA</td>\n",
       "      <td>111</td>\n",
       "      <td>ORD</td>\n",
       "      <td>LAX</td>\n",
       "      <td>1709.0</td>\n",
       "      <td>-1.0</td>\n",
       "      <td>1952.0</td>\n",
       "      <td>2.0</td>\n",
       "      <td>283</td>\n",
       "    </tr>\n",
       "    <tr>\n",
       "      <td>1</td>\n",
       "      <td>11/1/2015</td>\n",
       "      <td>AA</td>\n",
       "      <td>1092</td>\n",
       "      <td>ORD</td>\n",
       "      <td>LAX</td>\n",
       "      <td>2021.0</td>\n",
       "      <td>-4.0</td>\n",
       "      <td>2243.0</td>\n",
       "      <td>-20.0</td>\n",
       "      <td>262</td>\n",
       "    </tr>\n",
       "    <tr>\n",
       "      <td>2</td>\n",
       "      <td>11/1/2015</td>\n",
       "      <td>AA</td>\n",
       "      <td>1081</td>\n",
       "      <td>ORD</td>\n",
       "      <td>LAX</td>\n",
       "      <td>841.0</td>\n",
       "      <td>-4.0</td>\n",
       "      <td>1052.0</td>\n",
       "      <td>-33.0</td>\n",
       "      <td>251</td>\n",
       "    </tr>\n",
       "    <tr>\n",
       "      <td>3</td>\n",
       "      <td>11/1/2015</td>\n",
       "      <td>AA</td>\n",
       "      <td>1243</td>\n",
       "      <td>ORD</td>\n",
       "      <td>LAX</td>\n",
       "      <td>705.0</td>\n",
       "      <td>-5.0</td>\n",
       "      <td>919.0</td>\n",
       "      <td>-31.0</td>\n",
       "      <td>254</td>\n",
       "    </tr>\n",
       "    <tr>\n",
       "      <td>4</td>\n",
       "      <td>11/1/2015</td>\n",
       "      <td>AA</td>\n",
       "      <td>1358</td>\n",
       "      <td>ORD</td>\n",
       "      <td>LAX</td>\n",
       "      <td>1508.0</td>\n",
       "      <td>-2.0</td>\n",
       "      <td>1739.0</td>\n",
       "      <td>-10.0</td>\n",
       "      <td>271</td>\n",
       "    </tr>\n",
       "  </tbody>\n",
       "</table>\n",
       "</div>"
      ],
      "text/plain": [
       "  Flight Date Carrier  Flight Number Origin Destination  Departure Time  \\\n",
       "0   11/1/2015      AA            111    ORD         LAX          1709.0   \n",
       "1   11/1/2015      AA           1092    ORD         LAX          2021.0   \n",
       "2   11/1/2015      AA           1081    ORD         LAX           841.0   \n",
       "3   11/1/2015      AA           1243    ORD         LAX           705.0   \n",
       "4   11/1/2015      AA           1358    ORD         LAX          1508.0   \n",
       "\n",
       "   Departure Delay  Arrival Time  Arrival Delay  Flight Time  \n",
       "0             -1.0        1952.0            2.0          283  \n",
       "1             -4.0        2243.0          -20.0          262  \n",
       "2             -4.0        1052.0          -33.0          251  \n",
       "3             -5.0         919.0          -31.0          254  \n",
       "4             -2.0        1739.0          -10.0          271  "
      ]
     },
     "execution_count": 42,
     "metadata": {},
     "output_type": "execute_result"
    }
   ],
   "source": [
    "#Exercise 1: Patricia Marasigan, IE300 lab BD4 \n",
    "\n",
    "import pandas as pd\n",
    "import numpy as np\n",
    "import csv\n",
    "\n",
    "# Read data using the pandas package and output results.\n",
    "file  = 'FlightTime.csv'\n",
    "df = pd.read_csv(file)\n",
    "df.head()"
   ]
  },
  {
   "cell_type": "code",
   "execution_count": 43,
   "metadata": {},
   "outputs": [
    {
     "data": {
      "text/plain": [
       "Flight Date        743\n",
       "Carrier            743\n",
       "Flight Number      743\n",
       "Origin             743\n",
       "Destination        743\n",
       "Departure Time     731\n",
       "Departure Delay    731\n",
       "Arrival Time       729\n",
       "Arrival Delay      729\n",
       "Flight Time        743\n",
       "dtype: int64"
      ]
     },
     "execution_count": 43,
     "metadata": {},
     "output_type": "execute_result"
    }
   ],
   "source": [
    "# Identify incomplete rows\n",
    "df.count()"
   ]
  },
  {
   "cell_type": "code",
   "execution_count": 45,
   "metadata": {},
   "outputs": [
    {
     "data": {
      "text/html": [
       "<div>\n",
       "<style scoped>\n",
       "    .dataframe tbody tr th:only-of-type {\n",
       "        vertical-align: middle;\n",
       "    }\n",
       "\n",
       "    .dataframe tbody tr th {\n",
       "        vertical-align: top;\n",
       "    }\n",
       "\n",
       "    .dataframe thead th {\n",
       "        text-align: right;\n",
       "    }\n",
       "</style>\n",
       "<table border=\"1\" class=\"dataframe\">\n",
       "  <thead>\n",
       "    <tr style=\"text-align: right;\">\n",
       "      <th></th>\n",
       "      <th>Flight Date</th>\n",
       "      <th>Carrier</th>\n",
       "      <th>Flight Number</th>\n",
       "      <th>Origin</th>\n",
       "      <th>Destination</th>\n",
       "      <th>Departure Time</th>\n",
       "      <th>Departure Delay</th>\n",
       "      <th>Arrival Time</th>\n",
       "      <th>Arrival Delay</th>\n",
       "      <th>Flight Time</th>\n",
       "    </tr>\n",
       "  </thead>\n",
       "  <tbody>\n",
       "    <tr>\n",
       "      <td>0</td>\n",
       "      <td>11/1/2015</td>\n",
       "      <td>AA</td>\n",
       "      <td>111</td>\n",
       "      <td>ORD</td>\n",
       "      <td>LAX</td>\n",
       "      <td>1709.0</td>\n",
       "      <td>-1.0</td>\n",
       "      <td>1952.0</td>\n",
       "      <td>2.0</td>\n",
       "      <td>283</td>\n",
       "    </tr>\n",
       "    <tr>\n",
       "      <td>1</td>\n",
       "      <td>11/1/2015</td>\n",
       "      <td>AA</td>\n",
       "      <td>1092</td>\n",
       "      <td>ORD</td>\n",
       "      <td>LAX</td>\n",
       "      <td>2021.0</td>\n",
       "      <td>-4.0</td>\n",
       "      <td>2243.0</td>\n",
       "      <td>-20.0</td>\n",
       "      <td>262</td>\n",
       "    </tr>\n",
       "    <tr>\n",
       "      <td>2</td>\n",
       "      <td>11/1/2015</td>\n",
       "      <td>AA</td>\n",
       "      <td>1081</td>\n",
       "      <td>ORD</td>\n",
       "      <td>LAX</td>\n",
       "      <td>841.0</td>\n",
       "      <td>-4.0</td>\n",
       "      <td>1052.0</td>\n",
       "      <td>-33.0</td>\n",
       "      <td>251</td>\n",
       "    </tr>\n",
       "    <tr>\n",
       "      <td>3</td>\n",
       "      <td>11/1/2015</td>\n",
       "      <td>AA</td>\n",
       "      <td>1243</td>\n",
       "      <td>ORD</td>\n",
       "      <td>LAX</td>\n",
       "      <td>705.0</td>\n",
       "      <td>-5.0</td>\n",
       "      <td>919.0</td>\n",
       "      <td>-31.0</td>\n",
       "      <td>254</td>\n",
       "    </tr>\n",
       "    <tr>\n",
       "      <td>4</td>\n",
       "      <td>11/1/2015</td>\n",
       "      <td>AA</td>\n",
       "      <td>1358</td>\n",
       "      <td>ORD</td>\n",
       "      <td>LAX</td>\n",
       "      <td>1508.0</td>\n",
       "      <td>-2.0</td>\n",
       "      <td>1739.0</td>\n",
       "      <td>-10.0</td>\n",
       "      <td>271</td>\n",
       "    </tr>\n",
       "    <tr>\n",
       "      <td>...</td>\n",
       "      <td>...</td>\n",
       "      <td>...</td>\n",
       "      <td>...</td>\n",
       "      <td>...</td>\n",
       "      <td>...</td>\n",
       "      <td>...</td>\n",
       "      <td>...</td>\n",
       "      <td>...</td>\n",
       "      <td>...</td>\n",
       "      <td>...</td>\n",
       "    </tr>\n",
       "    <tr>\n",
       "      <td>737</td>\n",
       "      <td>11/30/2015</td>\n",
       "      <td>UA</td>\n",
       "      <td>793</td>\n",
       "      <td>ORD</td>\n",
       "      <td>LAX</td>\n",
       "      <td>1610.0</td>\n",
       "      <td>3.0</td>\n",
       "      <td>1827.0</td>\n",
       "      <td>-16.0</td>\n",
       "      <td>257</td>\n",
       "    </tr>\n",
       "    <tr>\n",
       "      <td>738</td>\n",
       "      <td>11/30/2015</td>\n",
       "      <td>UA</td>\n",
       "      <td>1098</td>\n",
       "      <td>ORD</td>\n",
       "      <td>LAX</td>\n",
       "      <td>611.0</td>\n",
       "      <td>-5.0</td>\n",
       "      <td>829.0</td>\n",
       "      <td>-25.0</td>\n",
       "      <td>258</td>\n",
       "    </tr>\n",
       "    <tr>\n",
       "      <td>739</td>\n",
       "      <td>11/30/2015</td>\n",
       "      <td>UA</td>\n",
       "      <td>1440</td>\n",
       "      <td>ORD</td>\n",
       "      <td>LAX</td>\n",
       "      <td>2247.0</td>\n",
       "      <td>97.0</td>\n",
       "      <td>101.0</td>\n",
       "      <td>75.0</td>\n",
       "      <td>254</td>\n",
       "    </tr>\n",
       "    <tr>\n",
       "      <td>740</td>\n",
       "      <td>11/30/2015</td>\n",
       "      <td>VX</td>\n",
       "      <td>231</td>\n",
       "      <td>ORD</td>\n",
       "      <td>LAX</td>\n",
       "      <td>732.0</td>\n",
       "      <td>32.0</td>\n",
       "      <td>957.0</td>\n",
       "      <td>22.0</td>\n",
       "      <td>265</td>\n",
       "    </tr>\n",
       "    <tr>\n",
       "      <td>741</td>\n",
       "      <td>11/30/2015</td>\n",
       "      <td>VX</td>\n",
       "      <td>241</td>\n",
       "      <td>ORD</td>\n",
       "      <td>LAX</td>\n",
       "      <td>1715.0</td>\n",
       "      <td>5.0</td>\n",
       "      <td>1940.0</td>\n",
       "      <td>-5.0</td>\n",
       "      <td>265</td>\n",
       "    </tr>\n",
       "  </tbody>\n",
       "</table>\n",
       "<p>729 rows × 10 columns</p>\n",
       "</div>"
      ],
      "text/plain": [
       "    Flight Date Carrier  Flight Number Origin Destination  Departure Time  \\\n",
       "0     11/1/2015      AA            111    ORD         LAX          1709.0   \n",
       "1     11/1/2015      AA           1092    ORD         LAX          2021.0   \n",
       "2     11/1/2015      AA           1081    ORD         LAX           841.0   \n",
       "3     11/1/2015      AA           1243    ORD         LAX           705.0   \n",
       "4     11/1/2015      AA           1358    ORD         LAX          1508.0   \n",
       "..          ...     ...            ...    ...         ...             ...   \n",
       "737  11/30/2015      UA            793    ORD         LAX          1610.0   \n",
       "738  11/30/2015      UA           1098    ORD         LAX           611.0   \n",
       "739  11/30/2015      UA           1440    ORD         LAX          2247.0   \n",
       "740  11/30/2015      VX            231    ORD         LAX           732.0   \n",
       "741  11/30/2015      VX            241    ORD         LAX          1715.0   \n",
       "\n",
       "     Departure Delay  Arrival Time  Arrival Delay  Flight Time  \n",
       "0               -1.0        1952.0            2.0          283  \n",
       "1               -4.0        2243.0          -20.0          262  \n",
       "2               -4.0        1052.0          -33.0          251  \n",
       "3               -5.0         919.0          -31.0          254  \n",
       "4               -2.0        1739.0          -10.0          271  \n",
       "..               ...           ...            ...          ...  \n",
       "737              3.0        1827.0          -16.0          257  \n",
       "738             -5.0         829.0          -25.0          258  \n",
       "739             97.0         101.0           75.0          254  \n",
       "740             32.0         957.0           22.0          265  \n",
       "741              5.0        1940.0           -5.0          265  \n",
       "\n",
       "[729 rows x 10 columns]"
      ]
     },
     "execution_count": 45,
     "metadata": {},
     "output_type": "execute_result"
    }
   ],
   "source": [
    "# Drop all rows with missing information\n",
    "df.dropna(how='any')"
   ]
  },
  {
   "cell_type": "code",
   "execution_count": 46,
   "metadata": {},
   "outputs": [
    {
     "data": {
      "text/plain": [
       "Flight Date        729\n",
       "Carrier            729\n",
       "Flight Number      729\n",
       "Origin             729\n",
       "Destination        729\n",
       "Departure Time     729\n",
       "Departure Delay    729\n",
       "Arrival Time       729\n",
       "Arrival Delay      729\n",
       "Flight Time        729\n",
       "dtype: int64"
      ]
     },
     "execution_count": 46,
     "metadata": {},
     "output_type": "execute_result"
    }
   ],
   "source": [
    "# Verify dropped rows\n",
    "df.count()"
   ]
  },
  {
   "cell_type": "code",
   "execution_count": 51,
   "metadata": {},
   "outputs": [],
   "source": [
    "#Remove faulty times <230 minutes\n",
    "df.drop(df[df['Flight Time'] < 230].index, inplace = True)"
   ]
  },
  {
   "cell_type": "code",
   "execution_count": 59,
   "metadata": {},
   "outputs": [
    {
     "name": "stdout",
     "output_type": "stream",
     "text": [
      "Total Number of Observations: 729\n"
     ]
    }
   ],
   "source": [
    "# Calculate the final number of observations in dataset\n",
    "index = df.index\n",
    "print('Total Number of Observations:' , len(index) )"
   ]
  },
  {
   "cell_type": "code",
   "execution_count": 64,
   "metadata": {},
   "outputs": [
    {
     "name": "stdout",
     "output_type": "stream",
     "text": [
      "Target Flight Time: 239.48939000000001\n"
     ]
    }
   ],
   "source": [
    "#Calculate the target flight time\n",
    "d = 1741.16 \n",
    "l_ori = -87.90\n",
    "l_des = -118.41\n",
    "TFT = .117 * d + .517 * (l_ori - l_des) + 20\n",
    "print('Target Flight Time:',TFT)"
   ]
  },
  {
   "cell_type": "code",
   "execution_count": 65,
   "metadata": {},
   "outputs": [
    {
     "name": "stdout",
     "output_type": "stream",
     "text": [
      "Typical Time: 263.1217631138546\n"
     ]
    }
   ],
   "source": [
    "#Calculate typical time (TT)\n",
    "TT = TFT + df['Departure Delay'].mean() + df['Arrival Delay'].mean()\n",
    "print('Typical Time:',TT)"
   ]
  },
  {
   "cell_type": "code",
   "execution_count": 117,
   "metadata": {},
   "outputs": [
    {
     "name": "stdout",
     "output_type": "stream",
     "text": [
      "Average Flight Time by Carrier\n",
      "AA    267.375439\n",
      "F9    275.310345\n",
      "NK    267.559322\n",
      "UA    269.174497\n",
      "VX    265.913793\n",
      "Name: Flight Time, dtype: float64\n",
      "Time Added by Carrier\n",
      "AA     4.253675\n",
      "F9    12.188582\n",
      "NK     4.437559\n",
      "UA     6.052734\n",
      "VX     2.792030\n",
      "Name: Flight Time, dtype: float64\n",
      "Least time added: 2.7920299895936296\n"
     ]
    }
   ],
   "source": [
    "#Calculate Average Flight Time (AFT), and Time Added (TA) for each airline:AA, F9,NK, UA, VX\n",
    "\n",
    "groupby_AFT = df.groupby('Carrier')['Flight Time'].mean()\n",
    "TA = groupby_AFT - TT\n",
    "smallest_TA = groupby_TA.min()\n",
    "\n",
    "#Report results\n",
    "\n",
    "print('Average Flight Time by ' + str(groupby_AFT))\n",
    "print('Time Added by '+ str(TA))\n",
    "print('Least time added: ' +str(smallest_TA) )"
   ]
  },
  {
   "cell_type": "code",
   "execution_count": 146,
   "metadata": {},
   "outputs": [
    {
     "data": {
      "image/png": "[encoded data removed]",
      "text/plain": [
       "<Figure size 432x288 with 1 Axes>"
      ]
     },
     "metadata": {
      "needs_background": "light"
     },
     "output_type": "display_data"
    }
   ],
   "source": [
    "#Exercise 2\n",
    "\n",
    "import matplotlib.pyplot as plt\n",
    "\n",
    "x = ['AA' , 'F9' , 'NK' , 'UA' , 'VX']\n",
    "y = [4.253675 , 12.188582 , 4.437559 , 6.052734 , 2.792030]\n",
    "\n",
    "plt.bar(x,y, color = 'navy')\n",
    "plt.xlabel('Airline' , size=14)\n",
    "plt.ylabel('Time Added (minutes)' , size=14)\n",
    "plt.title('Airline vs. Time Added' , size=20)\n",
    "plt.show()"
   ]
  },
  {
   "cell_type": "code",
   "execution_count": null,
   "metadata": {},
   "outputs": [],
   "source": []
  },
  {
   "cell_type": "code",
   "execution_count": null,
   "metadata": {},
   "outputs": [],
   "source": []
  }
 ],
 "metadata": {
  "kernelspec": {
   "display_name": "Python 3",
   "language": "python",
   "name": "python3"
  },
  "language_info": {
   "codemirror_mode": {
    "name": "ipython",
    "version": 3
   },
   "file_extension": ".py",
   "mimetype": "text/x-python",
   "name": "python",
   "nbconvert_exporter": "python",
   "pygments_lexer": "ipython3",
   "version": "3.7.4"
  }
 },
 "nbformat": 4,
 "nbformat_minor": 2
}
